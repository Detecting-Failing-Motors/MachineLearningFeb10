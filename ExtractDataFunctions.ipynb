{
 "cells": [
  {
   "cell_type": "code",
   "execution_count": 1,
   "metadata": {},
   "outputs": [],
   "source": [
    "#Import Native Libraries\n",
    "import pandas as pd\n",
    "import numpy as np \n",
    "import copy"
   ]
  },
  {
   "cell_type": "code",
   "execution_count": 2,
   "metadata": {},
   "outputs": [],
   "source": [
    "def SplitMatrix(t,v,depth = 0):\n",
    "    i = 0\n",
    "    if len(t) != 0:\n",
    "        while i < (len(t)-1):\n",
    "            i += 1\n",
    "\n",
    "            if t[i] == 0 and v[i] == 0:\n",
    "                time,amp = SplitMatrix(t[i+1:],v[i+1:],(depth + 1))\n",
    "                time[depth] = t[0:i-1]\n",
    "                amp[depth] = v[0:i-1]\n",
    "                break\n",
    "    else:\n",
    "        time = np.array([None]*depth)\n",
    "        amp = np.array([None]*depth)\n",
    "        \n",
    "            \n",
    "    return time,amp"
   ]
  },
  {
   "cell_type": "code",
   "execution_count": 3,
   "metadata": {},
   "outputs": [],
   "source": [
    "def ConvertObjectArrayToFloat(obj):\n",
    "    temp = copy.deepcopy(obj)\n",
    "    for i in range(0,len(obj)):\n",
    "        temp[i] = temp[i].astype('float64')\n",
    "        \n",
    "    return temp"
   ]
  },
  {
   "cell_type": "code",
   "execution_count": 4,
   "metadata": {},
   "outputs": [],
   "source": [
    "def GetPhysicalValuesFromDigitizedReadings(amp,VoltageQuantizedStep,AccelerationQuantizedStep):\n",
    "    #Voltage in units of V\n",
    "    voltage = copy.deepcopy(amp)\n",
    "    for j in range(0,len(voltage)):\n",
    "        for i in range(0,len(voltage[j])):\n",
    "            voltage[j][i] = voltage[j][i]*VoltageQuantizedStep      \n",
    "\n",
    "    #Acceleration in units of g\n",
    "    accel = copy.deepcopy(voltage)\n",
    "    for j in range(0,len(accel)):\n",
    "        for i in range(0,len(accel[j])):\n",
    "            accel[j][i] = accel[j][i]*AccelerationQuantizedStep - 50\n",
    "            \n",
    "    return voltage, accel"
   ]
  },
  {
   "cell_type": "code",
   "execution_count": 5,
   "metadata": {},
   "outputs": [],
   "source": [
    "def ImportData(filename):\n",
    "    \n",
    "    dataset = pd.read_csv(filename, header = None, index_col = False)\n",
    "    dataset.rename(columns={0: \"Time\", 1: \"Value\"}, inplace = True)\n",
    "    alltimes = np.array(dataset[\"Time\"].values)\n",
    "    allvalues = np.array(dataset[\"Value\"].values)\n",
    "\n",
    "    time, amp = SplitMatrix(alltimes,allvalues)\n",
    "    time = ConvertObjectArrayToFloat(time)\n",
    "    amp = ConvertObjectArrayToFloat(amp)\n",
    "    \n",
    "    return time, amp"
   ]
  },
  {
   "cell_type": "code",
   "execution_count": 6,
   "metadata": {},
   "outputs": [],
   "source": [
    "def ExtractAccelerometerData(Inputs2CondensedForm,System2CondensedForm):\n",
    "    \n",
    "    filename = Inputs2CondensedForm['AccelerometerDataFilename']\n",
    "    VoltageQuantizedStep = System2CondensedForm['VoltageQuantizedStep']\n",
    "    AccelerationQuantizedStep = System2CondensedForm['AccelerationQuantizedStep']\n",
    "    \n",
    "    time,amp = ImportData(filename)\n",
    "    voltage,acceleration = GetPhysicalValuesFromDigitizedReadings(amp,VoltageQuantizedStep,AccelerationQuantizedStep)\n",
    "    \n",
    "    return time,amp,voltage,acceleration"
   ]
  },
  {
   "cell_type": "code",
   "execution_count": null,
   "metadata": {},
   "outputs": [],
   "source": [
    "def ExtractAcousticData(Inputs2CondensedForm,System2CondensedForm):\n",
    "    \n",
    "    filename = Inputs2CondensedForm['AcousticDataFilename']\n",
    "\n",
    "    dataset = pd.read_csv(filename, header = None, index_col = False, low_memory = False)\n",
    "    dataset.rename(columns={0: \"Channel 1: Time\", 1: \"Channel 1: Amp\",2: \\\n",
    "                        \"Channel 2: Time\", 3: \"Channel 2: Amp\"}, inplace = True)\n",
    "    dataset = dataset.drop([0,1,2])\n",
    "\n",
    "    Channel1Time = np.array(dataset[\"Channel 1: Time\"].values)\n",
    "    Channel1Value = np.array(dataset[\"Channel 1: Amp\"].values)\n",
    "    Channel2Time = np.array(dataset[\"Channel 2: Time\"].values)\n",
    "    Channel2Value = np.array(dataset[\"Channel 2: Amp\"].values)\n",
    "\n",
    "    Channel1Time = Channel1Time.astype('float64')\n",
    "    Channel1Value = Channel1Value.astype('float64')\n",
    "    Channe21Time = Channel2Time.astype('float64')\n",
    "    Channe2Value = Channel2Value.astype('float64')\n",
    "\n",
    "    return Channel1Time,Channel1Value,Channe21Time,Channe2Value"
   ]
  }
 ],
 "metadata": {
  "kernelspec": {
   "display_name": "Python 3",
   "language": "python",
   "name": "python3"
  },
  "language_info": {
   "codemirror_mode": {
    "name": "ipython",
    "version": 3
   },
   "file_extension": ".py",
   "mimetype": "text/x-python",
   "name": "python",
   "nbconvert_exporter": "python",
   "pygments_lexer": "ipython3",
   "version": "3.6.5"
  }
 },
 "nbformat": 4,
 "nbformat_minor": 2
}
