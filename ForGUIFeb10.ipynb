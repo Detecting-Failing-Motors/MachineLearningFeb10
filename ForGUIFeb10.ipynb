{
 "cells": [
  {
   "cell_type": "code",
   "execution_count": 1,
   "metadata": {},
   "outputs": [],
   "source": [
    "import pickle"
   ]
  },
  {
   "cell_type": "code",
   "execution_count": 2,
   "metadata": {},
   "outputs": [],
   "source": [
    "#Import Needed Created Functions\n",
    "\n",
    "#Need 2 Functions to extract all the data from csv files\n",
    "from ExtractDataFunctions import ExtractAccelerometerData\n",
    "from ExtractDataFunctions import ExtractAcousticData\n",
    "\n",
    "#Need 3 Functions to Organize all the all the data\n",
    "from OrganizationFunctions import Inputs2CondensedForm\n",
    "from OrganizationFunctions import System2CondensedForm\n",
    "from OrganizationFunctions import AllData2WorkingForm\n",
    "\n",
    "#Need 1 Function to Organize Files into TestDataFrame\n",
    "from FeatureFunctions import getTESTDataFrame\n",
    "\n",
    "#Need 2 Functions for Graphing\n",
    "from FeatureFunctions import getGraphs\n",
    "from FeatureFunctions import getQuickPlot\n",
    "\n",
    "#Need # Functions to perform Machine Learning\n",
    "from MachineLearningFunctions import getTESTMatrix\n",
    "from MachineLearningFunctions import GenerateTrainingFile\n",
    "from MachineLearningFunctions import GetSplitTrainingData\n",
    "from MachineLearningFunctions import GetTrainingData\n",
    "from MachineLearningFunctions import TrainModel\n",
    "from MachineLearningFunctions import PredictModel\n",
    "from MachineLearningFunctions import PredictProbModel\n",
    "from MachineLearningFunctions import GetReducedFeaturesFromDataFrame"
   ]
  },
  {
   "cell_type": "code",
   "execution_count": 3,
   "metadata": {},
   "outputs": [],
   "source": [
    "#Receive GUI Inputs\n",
    "\n",
    "#General\n",
    "Name_ID = \"1\"\n",
    "Application = \"2\"\n",
    "ModelNumber = \"3\"\n",
    "SavingAlias = \"4\"\n",
    "#AccelerometerDataFilename = 'AccelerometerActualData.csv' #filename #Origninal / Additionally File\n",
    "AccelerometerDataFilename = 'AccelerometerActualDataEdited.csv' #filename #main file\n",
    "#AcousticDataFilename = 'DataOutputMic.csv' #Original File #Wave File Name\n",
    "AcousticDataFilename = 'DataOutputMic2Col.csv' #Wave File Name\n",
    "MLDataFilename = \"MLSynthesizedData.csv\"\n",
    "\n",
    "#Motor Characteristics #Need to get with Brendan\n",
    "Horsepower = \"6\"\n",
    "RatedVoltage = \"7\"\n",
    "ACorDC = \"DC\"\n",
    "NumberOfPolePairs = \"9\"\n",
    "NumberofShafts = \"10\"\n",
    "\n",
    "#Bearing Information\n",
    "ShaftSpeed = 300 #Also Used for Motor Characteristics\n",
    "NumberOfRollingElements = 3\n",
    "DiameterOfRollingElements = 3\n",
    "PitchDiameter = .2\n",
    "ContactAngle = .2\n",
    "\n",
    "#Processing Information \n",
    "AccelerometerSamplingFrequency = 14000 #must be an non-zero int or float\n",
    "AcousticSamplingFrequency = 20000 #must be an non-zero int or float"
   ]
  },
  {
   "cell_type": "code",
   "execution_count": 4,
   "metadata": {},
   "outputs": [],
   "source": [
    "#Microcontroller Information\n",
    "#Receive Required Information\n",
    "A2DResolution = 16\n",
    "VoltageMax = 5\n",
    "VoltageMin = 0"
   ]
  },
  {
   "cell_type": "code",
   "execution_count": 5,
   "metadata": {},
   "outputs": [],
   "source": [
    "#System/Sensor Known Constants\n",
    "AccelerationMax = 50 \n",
    "AccelerationMin = -50"
   ]
  },
  {
   "cell_type": "code",
   "execution_count": 6,
   "metadata": {},
   "outputs": [],
   "source": [
    "#Convert User Inputs into a condensed form\n",
    "OnlyUserInput = Inputs2CondensedForm(Name_ID, Application, ModelNumber, SavingAlias,\\\n",
    "                                     AccelerometerDataFilename, AcousticDataFilename, \\\n",
    "                                     MLDataFilename, Horsepower, RatedVoltage, ACorDC, \\\n",
    "                                     NumberOfPolePairs, NumberofShafts, \\\n",
    "                                     ShaftSpeed, NumberOfRollingElements, \\\n",
    "                                     DiameterOfRollingElements,PitchDiameter, ContactAngle, \\\n",
    "                                     AccelerometerSamplingFrequency, AcousticSamplingFrequency)\n",
    "\n",
    "SystemInputs = System2CondensedForm(A2DResolution,VoltageMax,VoltageMin,AccelerationMax,AccelerationMin)"
   ]
  },
  {
   "cell_type": "code",
   "execution_count": 7,
   "metadata": {},
   "outputs": [],
   "source": [
    "#Acquire Accelerometer Actual Data\n",
    "time, amp, Voltage, Acceleration = ExtractAccelerometerData(OnlyUserInput,SystemInputs)\n",
    "\n",
    "#Acquire Acoustic Actual Data\n",
    "Channel1Time,Channel1Value,Channe21Time,Channe2Value = ExtractAcousticData(OnlyUserInput,SystemInputs)"
   ]
  },
  {
   "cell_type": "code",
   "execution_count": 8,
   "metadata": {},
   "outputs": [],
   "source": [
    "#Put All Data into Working Form\n",
    "trial = 2 #Select the instance of the data\n",
    "AllData = AllData2WorkingForm(OnlyUserInput,SystemInputs,time[trial], \\\n",
    "                              amp[trial], Voltage[trial], Acceleration[trial],\\\n",
    "                             Channel1Time,Channel1Value,Channe21Time,Channe2Value)"
   ]
  },
  {
   "cell_type": "code",
   "execution_count": 9,
   "metadata": {},
   "outputs": [],
   "source": [
    "#Prepare for Machine Learning\n",
    "TestDF = getTESTDataFrame(AllData)\n",
    "TestMatrix = getTESTMatrix(TestDF)\n",
    "ShortDF = GetReducedFeaturesFromDataFrame(TestDF)\n",
    "ShortTestMatrix = getTESTMatrix(ShortDF)"
   ]
  },
  {
   "cell_type": "code",
   "execution_count": 10,
   "metadata": {},
   "outputs": [],
   "source": [
    "#For trainging over entire file\n",
    "#Used in final classifier\n",
    "#Not used in scoring\n",
    "Xall_train, Yall_train, dataset = GetTrainingData(AllData)"
   ]
  },
  {
   "cell_type": "code",
   "execution_count": 11,
   "metadata": {},
   "outputs": [],
   "source": [
    "#Save Full Model\n",
    "FinalClassifier = TrainModel(Xall_train, Yall_train)"
   ]
  },
  {
   "cell_type": "code",
   "execution_count": 12,
   "metadata": {},
   "outputs": [
    {
     "name": "stdout",
     "output_type": "stream",
     "text": [
      "Full Model:\n",
      "\n",
      "['Failure']\n",
      "[[16.69216456 17.85912322 65.44871222]]\n"
     ]
    }
   ],
   "source": [
    "#Currently Trained Model\n",
    "prediction,prediction_string = PredictModel(FinalClassifier,TestMatrix)\n",
    "prediction_proba = PredictProbModel(FinalClassifier,TestMatrix)\n",
    "#Output Results\n",
    "print('Full Model:\\n')\n",
    "print(prediction_string)\n",
    "print(prediction_proba)"
   ]
  },
  {
   "cell_type": "code",
   "execution_count": null,
   "metadata": {},
   "outputs": [],
   "source": []
  }
 ],
 "metadata": {
  "kernelspec": {
   "display_name": "Python 3",
   "language": "python",
   "name": "python3"
  },
  "language_info": {
   "codemirror_mode": {
    "name": "ipython",
    "version": 3
   },
   "file_extension": ".py",
   "mimetype": "text/x-python",
   "name": "python",
   "nbconvert_exporter": "python",
   "pygments_lexer": "ipython3",
   "version": "3.6.5"
  }
 },
 "nbformat": 4,
 "nbformat_minor": 2
}
